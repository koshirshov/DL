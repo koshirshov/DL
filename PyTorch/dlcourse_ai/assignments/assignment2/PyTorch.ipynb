{
 "cells": [
  {
   "cell_type": "markdown",
   "metadata": {},
   "source": [
    "# Задание 2.2 - Введение в PyTorch\n",
    "\n",
    "Для этого задания потребуется установить версию PyTorch 1.0\n",
    "\n",
    "https://pytorch.org/get-started/locally/\n",
    "\n",
    "В этом задании мы познакомимся с основными компонентами PyTorch и натренируем несколько небольших моделей.<br>\n",
    "GPU нам пока не понадобится.\n",
    "\n",
    "Основные ссылки:  \n",
    "https://pytorch.org/tutorials/beginner/deep_learning_60min_blitz.html  \n",
    "https://pytorch.org/docs/stable/nn.html  \n",
    "https://pytorch.org/docs/stable/torchvision/index.html  "
   ]
  },
  {
   "cell_type": "code",
   "execution_count": 3,
   "metadata": {
    "scrolled": true
   },
   "outputs": [],
   "source": [
    "import torch\n",
    "import torch.nn as nn\n",
    "import torch.optim as optim\n",
    "import torchvision.datasets as dset\n",
    "from torch.utils.data.sampler import SubsetRandomSampler, Sampler\n",
    "\n",
    "from torchvision import transforms\n",
    "\n",
    "import matplotlib.pyplot as plt\n",
    "%matplotlib inline\n",
    "\n",
    "import numpy as np"
   ]
  },
  {
   "cell_type": "markdown",
   "metadata": {},
   "source": [
    "## Как всегда, начинаем с загрузки данных\n",
    "\n",
    "PyTorch поддерживает загрузку SVHN из коробки."
   ]
  },
  {
   "cell_type": "code",
   "execution_count": 4,
   "metadata": {
    "scrolled": true
   },
   "outputs": [],
   "source": [
    "# First, lets load the dataset\n",
    "data_train = dset.SVHN('./data/', split='train',\n",
    "                       transform=transforms.Compose([ #обьединение подряд нескольких трансформов\n",
    "                           transforms.ToTensor(),\n",
    "                           transforms.Normalize(mean=[0.43,0.44,0.47],\n",
    "                                               std=[0.20,0.20,0.20])                           \n",
    "                       ])\n",
    "                      )\n",
    "data_test = dset.SVHN('./data/', split='test', \n",
    "                      transform=transforms.Compose([\n",
    "                           transforms.ToTensor(),\n",
    "                           transforms.Normalize(mean=[0.43,0.44,0.47],\n",
    "                                               std=[0.20,0.20,0.20])                           \n",
    "                       ]))"
   ]
  },
  {
   "cell_type": "code",
   "execution_count": 5,
   "metadata": {},
   "outputs": [
    {
     "data": {
      "text/plain": [
       "(73257, 3, 32, 32)"
      ]
     },
     "execution_count": 5,
     "metadata": {},
     "output_type": "execute_result"
    }
   ],
   "source": [
    "data_train.data.shape"
   ]
  },
  {
   "cell_type": "markdown",
   "metadata": {},
   "source": [
    "Теперь мы разделим данные на training и validation с использованием классов `SubsetRandomSampler` и `DataLoader`.\n",
    "\n",
    "`DataLoader` подгружает данные, предоставляемые классом `Dataset`, во время тренировки и группирует их в батчи.\n",
    "Он дает возможность указать `Sampler`, который выбирает, какие примеры из датасета использовать для тренировки. Мы используем это, чтобы разделить данные на training и validation.\n",
    "\n",
    "Подробнее: https://pytorch.org/tutorials/beginner/data_loading_tutorial.html"
   ]
  },
  {
   "cell_type": "code",
   "execution_count": 6,
   "metadata": {
    "scrolled": true
   },
   "outputs": [],
   "source": [
    "batch_size = 64\n",
    "\n",
    "data_size = data_train.data.shape[0]\n",
    "validation_split = .2\n",
    "split = int(np.floor(validation_split * data_size))\n",
    "indices = list(range(data_size))\n",
    "np.random.shuffle(indices)\n",
    "\n",
    "train_indices, val_indices = indices[split:], indices[:split]\n",
    "\n",
    "train_sampler = SubsetRandomSampler(train_indices)\n",
    "val_sampler = SubsetRandomSampler(val_indices)\n",
    "\n",
    "train_loader = torch.utils.data.DataLoader(data_train, batch_size=batch_size, \n",
    "                                           sampler=train_sampler)\n",
    "val_loader = torch.utils.data.DataLoader(data_train, batch_size=batch_size,\n",
    "                                         sampler=val_sampler)"
   ]
  },
  {
   "cell_type": "markdown",
   "metadata": {},
   "source": [
    "В нашей задаче мы получаем на вход изображения, но работаем с ними как с одномерными массивами. Чтобы превратить многомерный массив в одномерный, мы воспользуемся очень простым вспомогательным модулем `Flattener`."
   ]
  },
  {
   "cell_type": "code",
   "execution_count": 7,
   "metadata": {
    "scrolled": true
   },
   "outputs": [
    {
     "name": "stdout",
     "output_type": "stream",
     "text": [
      "SVHN data sample shape:  torch.Size([3, 32, 32])\n"
     ]
    }
   ],
   "source": [
    "sample, label = data_train[0]\n",
    "print(\"SVHN data sample shape: \", sample.shape)\n",
    "# As you can see, the data is shaped like an image\n",
    "\n",
    "# We'll use a special helper module to shape it into a tensor\n",
    "class Flattener(nn.Module):\n",
    "    def forward(self, x):\n",
    "        batch_size, *_ = x.shape\n",
    "        return x.view(batch_size, -1)"
   ]
  },
  {
   "cell_type": "markdown",
   "metadata": {},
   "source": [
    "И наконец, мы создаем основные объекты PyTorch:\n",
    "- `nn_model` - собственно, модель с нейросетью\n",
    "- `loss` - функцию ошибки, в нашем случае `CrossEntropyLoss`\n",
    "- `optimizer` - алгоритм оптимизации, в нашем случае просто `SGD`"
   ]
  },
  {
   "cell_type": "code",
   "execution_count": 8,
   "metadata": {
    "scrolled": true
   },
   "outputs": [],
   "source": [
    "nn_model = nn.Sequential(\n",
    "            Flattener(),\n",
    "            nn.Linear(3*32*32, 100),\n",
    "            nn.ReLU(inplace=True),\n",
    "            nn.Linear(100, 10), \n",
    "         )\n",
    "nn_model.type(torch.FloatTensor)\n",
    "\n",
    "# We will minimize cross-entropy between the ground truth and\n",
    "# network predictions using an SGD optimizer\n",
    "loss = nn.CrossEntropyLoss().type(torch.FloatTensor)\n",
    "optimizer = optim.SGD(nn_model.parameters(), lr=1e-2, weight_decay=1e-1)"
   ]
  },
  {
   "cell_type": "code",
   "execution_count": 9,
   "metadata": {},
   "outputs": [
    {
     "data": {
      "text/plain": [
       "torch.Size([100, 3072])"
      ]
     },
     "execution_count": 9,
     "metadata": {},
     "output_type": "execute_result"
    }
   ],
   "source": [
    "list(nn_model.parameters())[0].shape"
   ]
  },
  {
   "cell_type": "markdown",
   "metadata": {},
   "source": [
    "## Тренируем!\n",
    "\n",
    "Ниже приведена функция `train_model`, реализующая основной цикл тренировки PyTorch.\n",
    "\n",
    "Каждую эпоху эта функция вызывает функцию `compute_accuracy`, которая вычисляет точность на validation, эту последнюю функцию предлагается реализовать вам."
   ]
  },
  {
   "cell_type": "code",
   "execution_count": 10,
   "metadata": {
    "scrolled": true
   },
   "outputs": [
    {
     "name": "stdout",
     "output_type": "stream",
     "text": [
      "Average loss: 1.809729, Train accuracy: 0.408439, Val accuracy: 0.535322\n",
      "Average loss: 1.458329, Train accuracy: 0.580128, Val accuracy: 0.576138\n",
      "Average loss: 1.379157, Train accuracy: 0.617326, Val accuracy: 0.616886\n",
      "Average loss: 1.348588, Train accuracy: 0.632870, Val accuracy: 0.629104\n",
      "Average loss: 1.331095, Train accuracy: 0.642409, Val accuracy: 0.624804\n",
      "Average loss: 1.322528, Train accuracy: 0.645889, Val accuracy: 0.637090\n",
      "Average loss: 1.316734, Train accuracy: 0.648585, Val accuracy: 0.631971\n",
      "Average loss: 1.313466, Train accuracy: 0.652118, Val accuracy: 0.635110\n",
      "Average loss: 1.310038, Train accuracy: 0.652476, Val accuracy: 0.649580\n",
      "Average loss: 1.309371, Train accuracy: 0.655445, Val accuracy: 0.650672\n"
     ]
    }
   ],
   "source": [
    "# This is how to implement the same main train loop in PyTorch. Pretty easy, right?\n",
    "\n",
    "def train_model(model, train_loader, val_loader, loss, optimizer, num_epochs):    \n",
    "    loss_history = []\n",
    "    train_history = []\n",
    "    \n",
    "    val_history = []\n",
    "    for epoch in range(num_epochs):\n",
    "        model.train() # Enter train mode\n",
    "        \n",
    "        loss_accum = 0\n",
    "        correct_samples = 0\n",
    "        total_samples = 0\n",
    "        for i_step, (x, y) in enumerate(train_loader):\n",
    "            prediction = model(x)    \n",
    "            loss_value = loss(prediction, y)\n",
    "            optimizer.zero_grad()\n",
    "            loss_value.backward()\n",
    "            optimizer.step()\n",
    "            \n",
    "            _, indices = torch.max(prediction, 1) ## выдает макс элементы из каждой строки, и индексы их. они нам и нужны\n",
    "            correct_samples += torch.sum(indices == y)\n",
    "            total_samples += y.shape[0]\n",
    "            \n",
    "            loss_accum += loss_value\n",
    "\n",
    "        ave_loss = loss_accum / (i_step + 1)\n",
    "        train_accuracy = float(correct_samples) / total_samples\n",
    "        val_accuracy = compute_accuracy(model, val_loader)\n",
    "        \n",
    "        loss_history.append(float(ave_loss))\n",
    "        train_history.append(train_accuracy)\n",
    "        val_history.append(val_accuracy)\n",
    "        \n",
    "        print(\"Average loss: %f, Train accuracy: %f, Val accuracy: %f\" % (ave_loss, train_accuracy, val_accuracy))\n",
    "        \n",
    "    return loss_history, train_history, val_history\n",
    "        \n",
    "def compute_accuracy(model, loader):\n",
    "    \"\"\"\n",
    "    Computes accuracy on the dataset wrapped in a loader\n",
    "    \n",
    "    Returns: accuracy as a float value between 0 and 1\n",
    "    \"\"\"\n",
    "    model.eval() # Evaluation mode\n",
    "    # TODO: Implement the inference of the model on all of the batches from loader,\n",
    "    #       and compute the overall accuracy.\n",
    "    # Hint: PyTorch has the argmax function!\n",
    "    \n",
    "    correct_samples = 0\n",
    "    total_samples = 0 \n",
    "    \n",
    "    for i_step, (x, y) in enumerate(loader):\n",
    "        prediction = model(x)\n",
    "        indices = torch.argmax(prediction, 1)\n",
    "        correct_samples += torch.sum(indices == y)\n",
    "        total_samples += y.shape[0]\n",
    "        \n",
    "    return float(correct_samples) / total_samples\n",
    "\n",
    "loss_history, train_history, val_history = train_model(nn_model, train_loader, val_loader, loss, optimizer, 10)"
   ]
  },
  {
   "cell_type": "markdown",
   "metadata": {},
   "source": [
    "## После основного цикла\n",
    "\n",
    "Посмотрим на другие возможности и оптимизации, которые предоставляет PyTorch.\n",
    "\n",
    "Добавьте еще один скрытый слой размера 100 нейронов к модели"
   ]
  },
  {
   "cell_type": "code",
   "execution_count": 11,
   "metadata": {
    "scrolled": true
   },
   "outputs": [
    {
     "name": "stdout",
     "output_type": "stream",
     "text": [
      "Average loss: 2.164069, Train accuracy: 0.210883, Val accuracy: 0.245512\n",
      "Average loss: 1.993033, Train accuracy: 0.282667, Val accuracy: 0.306668\n",
      "Average loss: 1.815421, Train accuracy: 0.366003, Val accuracy: 0.395263\n",
      "Average loss: 1.715124, Train accuracy: 0.416493, Val accuracy: 0.422224\n",
      "Average loss: 1.675412, Train accuracy: 0.434973, Val accuracy: 0.442291\n"
     ]
    }
   ],
   "source": [
    "# Since it's so easy to add layers, let's add some!\n",
    "\n",
    "# TODO: Implement a model with 2 hidden layers of the size 100\n",
    "nn_model = nn.Sequential(\n",
    "            Flattener(),\n",
    "            nn.Linear(3*32*32, 100),\n",
    "            nn.ReLU(inplace=True),\n",
    "            nn.Linear(100, 100),\n",
    "            nn.ReLU(inplace=True),\n",
    "            nn.Linear(100, 10),       \n",
    ")\n",
    "nn_model.type(torch.FloatTensor)\n",
    "\n",
    "optimizer = optim.SGD(nn_model.parameters(), lr=1e-2, weight_decay=1e-1)\n",
    "loss_history, train_history, val_history = train_model(nn_model, train_loader, val_loader, loss, optimizer, 5)"
   ]
  },
  {
   "cell_type": "markdown",
   "metadata": {},
   "source": [
    "Добавьте слой с Batch Normalization"
   ]
  },
  {
   "cell_type": "code",
   "execution_count": 12,
   "metadata": {
    "scrolled": true
   },
   "outputs": [
    {
     "name": "stdout",
     "output_type": "stream",
     "text": [
      "Average loss: 2.079568, Train accuracy: 0.309286, Val accuracy: 0.429527\n",
      "Average loss: 1.798725, Train accuracy: 0.468553, Val accuracy: 0.505699\n",
      "Average loss: 1.660571, Train accuracy: 0.533563, Val accuracy: 0.570610\n",
      "Average loss: 1.568460, Train accuracy: 0.573883, Val accuracy: 0.593475\n",
      "Average loss: 1.503126, Train accuracy: 0.601406, Val accuracy: 0.609719\n"
     ]
    }
   ],
   "source": [
    "# We heard batch normalization is powerful, let's use it!\n",
    "# TODO: Add batch normalization after each of the hidden layers of the network, before or after non-linearity\n",
    "# Hint: check out torch.nn.BatchNorm1d\n",
    "\n",
    "nn_model = nn.Sequential(\n",
    "            Flattener(),\n",
    "            nn.Linear(3*32*32, 100),\n",
    "            nn.ReLU(inplace=True),\n",
    "            nn.BatchNorm1d(100),\n",
    "            nn.Linear(100, 100),\n",
    "            nn.BatchNorm1d(100),\n",
    "            nn.ReLU(inplace=True),\n",
    "            nn.Linear(100, 10),       \n",
    ")\n",
    "\n",
    "optimizer = optim.SGD(nn_model.parameters(), lr=1e-3, weight_decay=1e-1)\n",
    "loss_history, train_history, val_history = train_model(nn_model, train_loader, val_loader, loss, optimizer, 5)"
   ]
  },
  {
   "cell_type": "markdown",
   "metadata": {},
   "source": [
    "Добавьте уменьшение скорости обучения по ходу тренировки."
   ]
  },
  {
   "cell_type": "code",
   "execution_count": 13,
   "metadata": {},
   "outputs": [],
   "source": [
    "from torch.optim import lr_scheduler\n",
    "def train_model(model, train_loader, val_loader, loss, optimizer, num_epochs, step_size, gamma): \n",
    "    scheduler = lr_scheduler.StepLR(optimizer, step_size=step_size, gamma=gamma)\n",
    "    loss_history = []\n",
    "    train_history = []\n",
    "    val_history = []\n",
    "    for epoch in range(num_epochs):\n",
    "        model.train() # Enter train mode\n",
    "        loss_accum = 0\n",
    "        correct_samples = 0\n",
    "        total_samples = 0\n",
    "        for i_step, (x, y) in enumerate(train_loader):\n",
    "            prediction = model(x)    \n",
    "            loss_value = loss(prediction, y)\n",
    "            optimizer.zero_grad()\n",
    "            loss_value.backward()\n",
    "            optimizer.step()\n",
    "            \n",
    "            _, indices = torch.max(prediction, 1) ## выдает макс элементы из каждой строки, и индексы их. они нам и нужны\n",
    "            correct_samples += torch.sum(indices == y)\n",
    "            total_samples += y.shape[0]\n",
    "            \n",
    "            loss_accum += loss_value\n",
    "\n",
    "        ave_loss = loss_accum / (i_step + 1)\n",
    "        train_accuracy = float(correct_samples) / total_samples\n",
    "        val_accuracy = compute_accuracy(model, val_loader)\n",
    "        \n",
    "        loss_history.append(float(ave_loss))\n",
    "        train_history.append(train_accuracy)\n",
    "        val_history.append(val_accuracy)\n",
    "        \n",
    "        scheduler.step() ## юзаем тут\n",
    "        \n",
    "        print(\"Average loss: %f, Train accuracy: %f, Val accuracy: %f\" % (ave_loss, train_accuracy, val_accuracy))\n",
    "        \n",
    "    return loss_history, train_history, val_history"
   ]
  },
  {
   "cell_type": "code",
   "execution_count": 14,
   "metadata": {
    "scrolled": true
   },
   "outputs": [
    {
     "name": "stdout",
     "output_type": "stream",
     "text": [
      "Average loss: 2.046949, Train accuracy: 0.318039, Val accuracy: 0.423521\n",
      "Average loss: 1.767573, Train accuracy: 0.457513, Val accuracy: 0.502628\n",
      "Average loss: 1.654947, Train accuracy: 0.515135, Val accuracy: 0.527063\n",
      "Average loss: 1.601708, Train accuracy: 0.539074, Val accuracy: 0.549382\n",
      "Average loss: 1.564289, Train accuracy: 0.555882, Val accuracy: 0.563716\n"
     ]
    }
   ],
   "source": [
    "# Learning rate annealing\n",
    "# Reduce your learning rate 2x every 2 epochs\n",
    "# Hint: look up learning rate schedulers in PyTorch. You might need to extend train_model function a little bit too!\n",
    "\n",
    "\n",
    "nn_model = nn.Sequential(\n",
    "            Flattener(),\n",
    "            nn.Linear(3*32*32, 100),\n",
    "            nn.ReLU(inplace=True),\n",
    "            nn.BatchNorm1d(100),\n",
    "            nn.Linear(100, 100),\n",
    "            nn.BatchNorm1d(100),\n",
    "            nn.ReLU(inplace=True),\n",
    "            nn.Linear(100, 10),       \n",
    ")\n",
    "\n",
    "optimizer = optim.SGD(nn_model.parameters(), lr=1e-3, weight_decay=1e-1)\n",
    "loss_history, train_history, val_history = train_model(nn_model, train_loader, val_loader, loss, optimizer, 5, 2, 0.5)"
   ]
  },
  {
   "cell_type": "markdown",
   "metadata": {},
   "source": [
    "# Визуализируем ошибки модели\n",
    "\n",
    "Попробуем посмотреть, на каких изображениях наша модель ошибается.\n",
    "Для этого мы получим все предсказания модели на validation set и сравним их с истинными метками (ground truth).\n",
    "\n",
    "Первая часть - реализовать код на PyTorch, который вычисляет все предсказания модели на validation set.  \n",
    "Чтобы это сделать мы приводим код `SubsetSampler`, который просто проходит по всем заданным индексам последовательно и составляет из них батчи. \n",
    "\n",
    "Реализуйте функцию `evaluate_model`, которая прогоняет модель через все сэмплы validation set и запоминает предсказания модели и истинные метки."
   ]
  },
  {
   "cell_type": "code",
   "execution_count": 15,
   "metadata": {},
   "outputs": [],
   "source": [
    "class SubsetSampler(Sampler):\n",
    "    r\"\"\"Samples elements with given indices sequentially\n",
    "\n",
    "    Arguments:\n",
    "        indices (ndarray): indices of the samples to take\n",
    "    \"\"\"\n",
    "\n",
    "    def __init__(self, indices):\n",
    "        self.indices = indices\n",
    "\n",
    "    def __iter__(self):\n",
    "        return (self.indices[i] for i in range(len(self.indices)))\n",
    "\n",
    "    def __len__(self):\n",
    "        return len(self.indices)\n",
    "    \n",
    "    \n",
    "def evaluate_model(model, dataset, indices):\n",
    "    \"\"\"\n",
    "    Computes predictions and ground truth labels for the indices of the dataset\n",
    "    \n",
    "    Returns: \n",
    "    predictions: np array of ints - model predictions\n",
    "    grount_truth: np array of ints - actual labels of the dataset\n",
    "    \"\"\"\n",
    "    model.eval() # Evaluation mode\n",
    "    \n",
    "    sampler = SubsetSampler(indices)\n",
    "    loader = torch.utils.data.DataLoader(dataset, sampler=sampler)\n",
    "    \n",
    "    predictions, ground_truth = [], []\n",
    "    for x, y in loader:\n",
    "        _, indices = torch.max(model(x), 1)\n",
    "        predictions.append(indices)\n",
    "        ground_truth.append(y)\n",
    "    # TODO: Evaluate model on the list of indices and capture predictions\n",
    "    # and ground truth labels\n",
    "    # Hint: SubsetSampler above could be useful!\n",
    "    \n",
    "    \n",
    "    \n",
    "    return predictions, ground_truth\n",
    "\n",
    "# Evaluate model on validation\n",
    "predictions, gt = evaluate_model(nn_model, data_train, val_indices)\n",
    "assert len(predictions) == len(val_indices)\n",
    "assert len(gt) == len(val_indices)\n",
    "assert gt[100] == data_train[val_indices[100]][1]\n",
    "assert np.any(np.not_equal(gt, predictions))"
   ]
  },
  {
   "attachments": {
    "image.png": {
     "image/png": "[encoded data removed]"
    }
   },
   "cell_type": "markdown",
   "metadata": {},
   "source": [
    "## Confusion matrix\n",
    "Первая часть визуализации - вывести confusion matrix (https://en.wikipedia.org/wiki/Confusion_matrix ).\n",
    "\n",
    "Confusion matrix - это матрица, где каждой строке соответствуют классы предсказанный, а столбцу - классы истинных меток (ground truth). Число с координатами `i,j` - это количество сэмплов класса `j`, которые модель считает классом `i`.\n",
    "\n",
    "![image.png](attachment:image.png)\n",
    "\n",
    "Для того, чтобы облегчить вам задачу, ниже реализована функция `visualize_confusion_matrix` которая визуализирует такую матрицу.  \n",
    "Вам осталось реализовать функцию `build_confusion_matrix`, которая ее вычислит.\n",
    "\n",
    "Результатом должна быть матрица 10x10."
   ]
  },
  {
   "cell_type": "code",
   "execution_count": 16,
   "metadata": {},
   "outputs": [
    {
     "data": {
      "image/png": "[encoded data removed]",
      "text/plain": [
       "<Figure size 720x720 with 2 Axes>"
      ]
     },
     "metadata": {
      "needs_background": "light"
     },
     "output_type": "display_data"
    }
   ],
   "source": [
    "def visualize_confusion_matrix(confusion_matrix):\n",
    "    \"\"\"\n",
    "    Visualizes confusion matrix\n",
    "    \n",
    "    confusion_matrix: np array of ints, x axis - predicted class, y axis - actual class\n",
    "                      [i][j] should have the count of samples that were predicted to be class i,\n",
    "                      but have j in the ground truth\n",
    "                     \n",
    "    \"\"\"\n",
    "    # Adapted from \n",
    "    # https://stackoverflow.com/questions/2897826/confusion-matrix-with-number-of-classified-misclassified-instances-on-it-python\n",
    "    assert confusion_matrix.shape[0] == confusion_matrix.shape[1]\n",
    "    size = confusion_matrix.shape[0]\n",
    "    fig = plt.figure(figsize=(10,10))\n",
    "    plt.title(\"Confusion matrix\")\n",
    "    plt.ylabel(\"predicted\")\n",
    "    plt.xlabel(\"ground truth\")\n",
    "    res = plt.imshow(confusion_matrix, cmap='GnBu', interpolation='nearest')\n",
    "    cb = fig.colorbar(res)\n",
    "    plt.xticks(np.arange(size))\n",
    "    plt.yticks(np.arange(size))\n",
    "    for i, row in enumerate(confusion_matrix):\n",
    "        for j, count in enumerate(row):\n",
    "            plt.text(j, i, count, fontsize=14, horizontalalignment='center', verticalalignment='center')\n",
    "    \n",
    "def build_confusion_matrix(predictions, ground_truth):\n",
    "    \"\"\"\n",
    "    Builds confusion matrix from predictions and ground truth\n",
    "\n",
    "    predictions: np array of ints, model predictions for all validation samples\n",
    "    ground_truth: np array of ints, ground truth for all validation samples\n",
    "    \n",
    "    Returns:\n",
    "    np array of ints, (10,10), counts of samples for predicted/ground_truth classes\n",
    "    \"\"\"\n",
    "    \n",
    "    confusion_matrix = np.zeros((10,10), np.int)\n",
    "    for i, j in zip(predictions, ground_truth):\n",
    "        confusion_matrix[i, j] += 1\n",
    "    # TODO: Implement filling the prediction matrix\n",
    "    \n",
    "    return confusion_matrix\n",
    "\n",
    "confusion_matrix = build_confusion_matrix(predictions, gt)\n",
    "visualize_confusion_matrix(confusion_matrix)"
   ]
  },
  {
   "cell_type": "markdown",
   "metadata": {},
   "source": [
    "Наконец, посмотрим на изображения, соответствующие некоторым элементам этой матрицы.\n",
    "\n",
    "Как и раньше, вам дана функция `visualize_images`, которой нужно воспрользоваться при реализации функции `visualize_predicted_actual`. Эта функция должна вывести несколько примеров, соответствующих заданному элементу матрицы.\n",
    "\n",
    "Визуализируйте наиболее частые ошибки и попробуйте понять, почему модель их совершает."
   ]
  },
  {
   "cell_type": "code",
   "execution_count": 17,
   "metadata": {},
   "outputs": [
    {
     "data": {
      "text/plain": [
       "<Figure size 720x108 with 0 Axes>"
      ]
     },
     "metadata": {},
     "output_type": "display_data"
    },
    {
     "data": {
      "text/plain": [
       "<Figure size 720x108 with 0 Axes>"
      ]
     },
     "metadata": {},
     "output_type": "display_data"
    }
   ],
   "source": [
    "data_train_images = dset.SVHN('./data/', split='train')\n",
    "\n",
    "def visualize_images(indices, data, title='', max_num=10):\n",
    "    \"\"\"\n",
    "    Visualizes several images from the dataset\n",
    " \n",
    "    indices: array of indices to visualize\n",
    "    data: torch Dataset with the images\n",
    "    title: string, title of the plot\n",
    "    max_num: int, max number of images to display\n",
    "    \"\"\"\n",
    "    to_show = min(len(indices), max_num)\n",
    "    fig = plt.figure(figsize=(10,1.5))\n",
    "    fig.suptitle(title)\n",
    "    for i, index in enumerate(indices[:to_show]):\n",
    "        plt.subplot(1,to_show, i+1)\n",
    "        plt.axis('off')\n",
    "        sample = data[index][0]\n",
    "        plt.imshow(sample)\n",
    "        \n",
    "def visualize_predicted_actual(predicted_class, gt_class, predictions, groud_truth, val_indices, data):\n",
    "    \"\"\"\n",
    "    Visualizes images of a ground truth class which were predicted as the other class \n",
    "    \n",
    "    predicted: int 0-9, index of the predicted class\n",
    "    gt_class: int 0-9, index of the ground truth class\n",
    "    predictions: np array of ints, model predictions for all validation samples\n",
    "    ground_truth: np array of ints, ground truth for all validation samples\n",
    "    val_indices: np array of ints, indices of validation samples\n",
    "    \"\"\"\n",
    "\n",
    "    # TODO: Implement visualization using visualize_images above\n",
    "    # predictions and ground_truth are provided for validation set only, defined by val_indices\n",
    "    # Hint: numpy index arrays might be helpful\n",
    "    # https://docs.scipy.org/doc/numpy/user/basics.indexing.html#index-arrays\n",
    "    # Please make the title meaningful!\n",
    "    title = f\"Visualize: predicted_class is {predicted_class}, gt_class is {gt_class}\"\n",
    "    indices = val_indices[(predictions == predicted_class) & (groud_truth == gt_class)]\n",
    "    visualize_images(indices, data, title)\n",
    "\n",
    "    \n",
    "visualize_predicted_actual(8, 3, predictions, gt, np.array(val_indices), data_train_images);\n",
    "visualize_predicted_actual(1, 7, predictions, gt, np.array(val_indices), data_train_images)"
   ]
  },
  {
   "cell_type": "markdown",
   "metadata": {},
   "source": [
    "# Переходим к свободным упражнениям!\n",
    "\n",
    "Натренируйте модель как можно лучше - экспериментируйте сами!\n",
    "Что следует обязательно попробовать:\n",
    "- перебор гиперпараметров с помощью валидационной выборки\n",
    "- другие оптимизаторы вместо SGD\n",
    "- изменение количества слоев и их размеров\n",
    "- наличие Batch Normalization\n",
    "\n",
    "Но ограничиваться этим не стоит!\n",
    "\n",
    "Точность на тестовой выборке должна быть доведена до **80%**"
   ]
  },
  {
   "cell_type": "code",
   "execution_count": 18,
   "metadata": {
    "scrolled": true
   },
   "outputs": [],
   "source": [
    "def loss_accuracy_plot(loss_history, train_history, val_history):\n",
    "    plt.figure(figsize=(10, 7))\n",
    "    plt.subplot(211)\n",
    "    plt.title(\"Loss\")\n",
    "    plt.plot(loss_history)\n",
    "    plt.subplot(212)\n",
    "    plt.title(\"Train/validation accuracy\")\n",
    "    plt.plot(train_history, label=\"train\")\n",
    "    plt.plot(val_history, label=\"validation\")\n",
    "    plt.legend();\n",
    "\n",
    "from torch.optim import lr_scheduler\n",
    "def train_model(model, train_loader, val_loader, loss, optimizer, num_epochs, scheduler = None): \n",
    "    loss_history = []\n",
    "    train_history = []\n",
    "    val_history = []\n",
    "    for epoch in range(num_epochs):\n",
    "        model.train() # Enter train mode\n",
    "        loss_accum = 0\n",
    "        correct_samples = 0\n",
    "        total_samples = 0\n",
    "        for i_step, (x, y) in enumerate(train_loader):\n",
    "            prediction = model(x)    \n",
    "            loss_value = loss(prediction, y)\n",
    "            optimizer.zero_grad()\n",
    "            loss_value.backward()\n",
    "            optimizer.step()\n",
    "            \n",
    "            _, indices = torch.max(prediction, 1) ## выдает макс элементы из каждой строки, и индексы их. они нам и нужны\n",
    "            correct_samples += torch.sum(indices == y)\n",
    "            total_samples += y.shape[0]\n",
    "            \n",
    "            loss_accum += loss_value\n",
    "\n",
    "        ave_loss = loss_accum / (i_step + 1)\n",
    "        train_accuracy = float(correct_samples) / total_samples\n",
    "        val_accuracy = compute_accuracy(model, val_loader)\n",
    "        \n",
    "        loss_history.append(float(ave_loss))\n",
    "        train_history.append(train_accuracy)\n",
    "        val_history.append(val_accuracy)\n",
    "        \n",
    "        if scheduler:\n",
    "            scheduler.step()  # use the sheduler\n",
    "        \n",
    "        print(\"Average loss: %f, Train accuracy: %f, Val accuracy: %f\" % (ave_loss, train_accuracy, val_accuracy))\n",
    "        \n",
    "    return loss_history, train_history, val_history"
   ]
  },
  {
   "cell_type": "code",
   "execution_count": 19,
   "metadata": {},
   "outputs": [
    {
     "name": "stdout",
     "output_type": "stream",
     "text": [
      "Average loss: 2.098253, Train accuracy: 0.302375, Val accuracy: 0.463996\n",
      "Average loss: 1.758769, Train accuracy: 0.526072, Val accuracy: 0.581530\n",
      "Average loss: 1.574589, Train accuracy: 0.602890, Val accuracy: 0.627602\n",
      "Average loss: 1.452455, Train accuracy: 0.637870, Val accuracy: 0.649853\n",
      "Average loss: 1.360347, Train accuracy: 0.663089, Val accuracy: 0.671763\n",
      "Average loss: 1.293867, Train accuracy: 0.683070, Val accuracy: 0.685687\n",
      "Average loss: 1.256549, Train accuracy: 0.691909, Val accuracy: 0.697290\n",
      "Average loss: 1.225243, Train accuracy: 0.699843, Val accuracy: 0.702955\n",
      "Average loss: 1.197357, Train accuracy: 0.704194, Val accuracy: 0.710327\n",
      "Average loss: 1.169863, Train accuracy: 0.712572, Val accuracy: 0.715787\n",
      "Average loss: 1.146334, Train accuracy: 0.719636, Val accuracy: 0.722067\n",
      "Average loss: 1.133828, Train accuracy: 0.721479, Val accuracy: 0.723432\n",
      "Average loss: 1.122987, Train accuracy: 0.724909, Val accuracy: 0.726640\n",
      "Average loss: 1.108248, Train accuracy: 0.730505, Val accuracy: 0.730599\n",
      "Average loss: 1.097044, Train accuracy: 0.733457, Val accuracy: 0.728483\n",
      "Average loss: 1.086520, Train accuracy: 0.734208, Val accuracy: 0.730257\n",
      "Average loss: 1.082398, Train accuracy: 0.736119, Val accuracy: 0.733670\n",
      "Average loss: 1.076697, Train accuracy: 0.737297, Val accuracy: 0.731554\n",
      "Average loss: 1.069465, Train accuracy: 0.739941, Val accuracy: 0.734080\n",
      "Average loss: 1.065307, Train accuracy: 0.740368, Val accuracy: 0.733261\n"
     ]
    },
    {
     "data": {
      "image/png": "[encoded data removed]",
      "text/plain": [
       "<Figure size 720x504 with 2 Axes>"
      ]
     },
     "metadata": {
      "needs_background": "light"
     },
     "output_type": "display_data"
    }
   ],
   "source": [
    "nn_model = nn.Sequential(\n",
    "            Flattener(),\n",
    "            nn.Linear(3*32*32, 100),\n",
    "            nn.ReLU(inplace=True),\n",
    "            nn.BatchNorm1d(100),\n",
    "            nn.Linear(100, 100),\n",
    "            nn.BatchNorm1d(100),\n",
    "            nn.ReLU(inplace=True),\n",
    "            nn.Linear(100, 10),       \n",
    ")\n",
    "\n",
    "optimizer = optim.Adam(nn_model.parameters(), lr=1e-5, weight_decay=1e-1)\n",
    "scheduler = lr_scheduler.StepLR(optimizer, step_size=5, gamma=0.5)\n",
    "#scheduler = None\n",
    "epoch = 20\n",
    "loss_history, train_history, val_history = train_model(nn_model, train_loader, val_loader, loss, optimizer, epoch, scheduler = scheduler)\n",
    "loss_accuracy_plot(loss_history, train_history, val_history)"
   ]
  },
  {
   "cell_type": "code",
   "execution_count": 20,
   "metadata": {},
   "outputs": [
    {
     "name": "stdout",
     "output_type": "stream",
     "text": [
      "Average loss: 1.659483, Train accuracy: 0.500171, Val accuracy: 0.626715\n",
      "Average loss: 1.223008, Train accuracy: 0.663311, Val accuracy: 0.688963\n",
      "Average loss: 1.089104, Train accuracy: 0.706310, Val accuracy: 0.707324\n",
      "Average loss: 0.973828, Train accuracy: 0.754052, Val accuracy: 0.775510\n",
      "Average loss: 0.944190, Train accuracy: 0.766201, Val accuracy: 0.774486\n",
      "Average loss: 0.936050, Train accuracy: 0.773010, Val accuracy: 0.764453\n",
      "Average loss: 0.891345, Train accuracy: 0.796454, Val accuracy: 0.794553\n",
      "Average loss: 0.889320, Train accuracy: 0.799236, Val accuracy: 0.802539\n",
      "Average loss: 0.889891, Train accuracy: 0.804167, Val accuracy: 0.806157\n",
      "Average loss: 0.868433, Train accuracy: 0.815497, Val accuracy: 0.813938\n",
      "Average loss: 0.870434, Train accuracy: 0.817357, Val accuracy: 0.809979\n",
      "Average loss: 0.871002, Train accuracy: 0.818858, Val accuracy: 0.817419\n",
      "Average loss: 0.857476, Train accuracy: 0.827577, Val accuracy: 0.821104\n",
      "Average loss: 0.858183, Train accuracy: 0.827185, Val accuracy: 0.819603\n",
      "Average loss: 0.858455, Train accuracy: 0.829983, Val accuracy: 0.822538\n",
      "Average loss: 0.854262, Train accuracy: 0.832560, Val accuracy: 0.822265\n",
      "Average loss: 0.852915, Train accuracy: 0.833652, Val accuracy: 0.819125\n",
      "Average loss: 0.853112, Train accuracy: 0.835085, Val accuracy: 0.821377\n",
      "Average loss: 0.849549, Train accuracy: 0.837406, Val accuracy: 0.825404\n",
      "Average loss: 0.848483, Train accuracy: 0.837372, Val accuracy: 0.820695\n"
     ]
    },
    {
     "data": {
      "image/png": "[encoded data removed]",
      "text/plain": [
       "<Figure size 720x504 with 2 Axes>"
      ]
     },
     "metadata": {
      "needs_background": "light"
     },
     "output_type": "display_data"
    }
   ],
   "source": [
    "nn_model = nn.Sequential(\n",
    "            Flattener(),\n",
    "            nn.Linear(3*32*32, 100),\n",
    "            nn.ReLU(inplace=True),\n",
    "            nn.BatchNorm1d(100),\n",
    "            nn.Linear(100, 100),\n",
    "            nn.BatchNorm1d(100),\n",
    "            nn.ReLU(inplace=True),\n",
    "            nn.Linear(100, 10),       \n",
    ")\n",
    "\n",
    "optimizer = optim.Adam(nn_model.parameters(), lr=1e-4, weight_decay=1e-1)\n",
    "scheduler = lr_scheduler.StepLR(optimizer, step_size=3, gamma=0.5)\n",
    "#scheduler = lr_scheduler.ReduceLROnPlateau(optimizer, factor=0.5, patience=2)\n",
    "#scheduler = None\n",
    "epoch = 20\n",
    "loss_history, train_history, val_history = train_model(nn_model, train_loader, val_loader, loss, optimizer, epoch, scheduler = scheduler)\n",
    "loss_accuracy_plot(loss_history, train_history, val_history)"
   ]
  },
  {
   "cell_type": "code",
   "execution_count": 21,
   "metadata": {},
   "outputs": [],
   "source": [
    "#from torch.optim import lr_scheduler\n",
    "#def train_model(model, train_loader, val_loader, loss, optimizer, num_epochs, step_size, gamma): \n",
    "#    scheduler = lr_scheduler.StepLR(optimizer, step_size=step_size, gamma=gamma)\n",
    "#    loss_history = []\n",
    "#    train_history = []\n",
    "#    val_history = []\n",
    "#    for epoch in range(num_epochs):\n",
    "#        model.train() # Enter train mode\n",
    "#        loss_accum = 0\n",
    "#        correct_samples = 0\n",
    "#        total_samples = 0\n",
    "#        for i_step, (x, y) in enumerate(train_loader):\n",
    "#            prediction = model(x)    \n",
    "#            loss_value = loss(prediction, y)\n",
    "#            optimizer.zero_grad()\n",
    "#            loss_value.backward()\n",
    "#            optimizer.step()\n",
    "#            \n",
    "#            _, indices = torch.max(prediction, 1) ## выдает макс элементы из каждой строки, и индексы их. они нам и нужны\n",
    "#            correct_samples += torch.sum(indices == y)\n",
    "#            total_samples += y.shape[0]\n",
    "#            \n",
    "#            loss_accum += loss_value\n",
    "#\n",
    "#        ave_loss = loss_accum / (i_step + 1)\n",
    "#        train_accuracy = float(correct_samples) / total_samples\n",
    "#        val_accuracy = compute_accuracy(model, val_loader)\n",
    "#        \n",
    "#        loss_history.append(float(ave_loss))\n",
    "#        train_history.append(train_accuracy)\n",
    "#        val_history.append(val_accuracy)\n",
    "#        \n",
    "#        scheduler.step() ## юзаем тут\n",
    "#        \n",
    "#        print(\"Average loss: %f, Train accuracy: %f, Val accuracy: %f\" % (ave_loss, train_accuracy, val_accuracy))\n",
    "#        \n",
    "#    return loss_history, train_history, val_history\n",
    "#\n",
    "#\n",
    "#\n",
    "#\n",
    "#\n",
    "#import itertools\n",
    "#learning_rates = [1e-5, 1e-4]\n",
    "#ns_neurons = [100, 200]\n",
    "#weight_decays = [1e-1, 1e-3]\n",
    "#optimizers = [torch.optim.Adam, torch.optim.RMSprop]\n",
    "#n_epochs = 25\n",
    "#\n",
    "#best_classifier = None\n",
    "#best_optimizer = None\n",
    "#best_val_accuracy = None\n",
    "#\n",
    "#for lr, n_neurons, weight_decay, nn_optimizer in itertools.product(learning_rates, \n",
    "#                                                                ns_neurons, \n",
    "#                                                                weight_decays,\n",
    "#                                                                optimizers):\n",
    "#    print(f'learning_rate={lr}, n_neurons={n_neurons}, weight_decay={weight_decay}, optimizer={nn_optimizer.__name__}')\n",
    "#\n",
    "#    nn_models = [nn.Sequential(Flattener(),\n",
    "#                               nn.Linear(3 * 32 * 32, n_neurons),\n",
    "#                               nn.BatchNorm1d(n_neurons),\n",
    "#                               nn.ReLU(inplace=True),\n",
    "#                               nn.Linear(n_neurons, 10),\n",
    "#                              ),\n",
    "#                 nn.Sequential(Flattener(),\n",
    "#                               nn.Linear(3 * 32 * 32, n_neurons),\n",
    "#                               nn.BatchNorm1d(n_neurons),\n",
    "#                               nn.ReLU(inplace=True),\n",
    "#                               nn.Linear(n_neurons, n_neurons),\n",
    "#                               nn.BatchNorm1d(n_neurons),\n",
    "#                               nn.ReLU(inplace=True),\n",
    "#                               nn.Linear(n_neurons, 10),\n",
    "#                              )\n",
    "#                ]\n",
    "#\n",
    "#    for nn_model in nn_models:\n",
    "#        optimizer = nn_optimizer(nn_model.parameters(), lr=lr, weight_decay=weight_decay)\n",
    "#        _, _, val_hist = train_model(nn_model, train_loader, val_loader, loss, optimizer, n_epochs, 2, 0.5)\n",
    "#        accuracy = val_hist[-1]\n",
    "#        \n",
    "#        if not best_val_accuracy or accuracy > best_val_accuracy:\n",
    "#            best_classifier = nn_model\n",
    "#            best_optimizer = optimizer\n",
    "#            best_val_accuracy = accuracy"
   ]
  },
  {
   "cell_type": "code",
   "execution_count": 22,
   "metadata": {},
   "outputs": [
    {
     "name": "stdout",
     "output_type": "stream",
     "text": [
      "Test accuracy: 0.8093\n"
     ]
    }
   ],
   "source": [
    "# Как всегда, в конце проверяем на test set\n",
    "test_loader = torch.utils.data.DataLoader(data_test, batch_size=batch_size)\n",
    "test_accuracy = compute_accuracy(nn_model, test_loader)\n",
    "print(\"Test accuracy: %2.4f\" % test_accuracy)"
   ]
  },
  {
   "cell_type": "code",
   "execution_count": null,
   "metadata": {},
   "outputs": [],
   "source": []
  },
  {
   "cell_type": "code",
   "execution_count": null,
   "metadata": {},
   "outputs": [],
   "source": []
  }
 ],
 "metadata": {
  "kernelspec": {
   "display_name": "Python 3",
   "language": "python",
   "name": "python3"
  },
  "language_info": {
   "codemirror_mode": {
    "name": "ipython",
    "version": 3
   },
   "file_extension": ".py",
   "mimetype": "text/x-python",
   "name": "python",
   "nbconvert_exporter": "python",
   "pygments_lexer": "ipython3",
   "version": "3.7.7"
  }
 },
 "nbformat": 4,
 "nbformat_minor": 2
}
