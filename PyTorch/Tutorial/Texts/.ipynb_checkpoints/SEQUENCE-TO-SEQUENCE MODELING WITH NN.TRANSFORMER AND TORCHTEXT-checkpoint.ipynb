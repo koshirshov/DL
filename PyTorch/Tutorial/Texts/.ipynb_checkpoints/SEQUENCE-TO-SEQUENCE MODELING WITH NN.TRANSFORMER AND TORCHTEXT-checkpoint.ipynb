{
 "cells": [
  {
   "cell_type": "markdown",
   "metadata": {},
   "source": [
    "# imports"
   ]
  },
  {
   "cell_type": "code",
   "execution_count": 1,
   "metadata": {},
   "outputs": [
    {
     "data": {
      "text/html": [
       "<style>.container { width:99% !important; }</style>"
      ],
      "text/plain": [
       "<IPython.core.display.HTML object>"
      ]
     },
     "metadata": {},
     "output_type": "display_data"
    }
   ],
   "source": [
    "#from __future__ import unicode_literals, print_function, division\n",
    "#from io import open\n",
    "import unicodedata\n",
    "from IPython.core.display import display, HTML\n",
    "display(HTML(\"<style>.container { width:99% !important; }</style>\"))\n",
    "\n",
    "import numpy as np\n",
    "import string\n",
    "import re\n",
    "import random\n",
    "\n",
    "import torch\n",
    "import torch.nn as nn\n",
    "from torch import optim\n",
    "import torch.nn.functional as F\n",
    "\n",
    "device = torch.device(\"cuda\" if torch.cuda.is_available() else \"cpu\")"
   ]
  },
  {
   "cell_type": "markdown",
   "metadata": {},
   "source": [
    "# SEQUENCE-TO-SEQUENCE MODELING WITH NN.TRANSFORMER AND TORCHTEXT\n",
    "PyTorch 1.2 release includes a standard transformer module based on the paper Attention is All You Need. The transformer model has been proved to be superior in quality for many sequence-to-sequence problems while being more parallelizable. The nn.Transformer module relies entirely on an attention mechanism (another module recently implemented as nn.MultiheadAttention) to draw global dependencies between input and output. The nn.Transformer module is now highly modularized such that a single component (like nn.TransformerEncoder in this tutorial) can be easily adapted/composed."
   ]
  },
  {
   "cell_type": "code",
   "execution_count": 1,
   "metadata": {},
   "outputs": [
    {
     "data": {
      "text/html": [
       "<img src=\"https://pytorch.org/tutorials/_images/transformer_architecture.jpg\" width=\"500\" height=\"10\"/>"
      ],
      "text/plain": [
       "<IPython.core.display.Image object>"
      ]
     },
     "execution_count": 1,
     "metadata": {},
     "output_type": "execute_result"
    }
   ],
   "source": [
    "urs = 'https://pytorch.org/tutorials/_images/transformer_architecture.jpg'\n",
    "from IPython.display import Image\n",
    "from IPython.core.display import HTML \n",
    "Image(width=500, height=10, url= urs)"
   ]
  },
  {
   "cell_type": "markdown",
   "metadata": {},
   "source": [
    "## Define the model\n",
    "\n",
    "In this tutorial, we train nn.TransformerEncoder model on a language modeling task. The language modeling task is to assign a probability for the likelihood of a given word (or a sequence of words) to follow a sequence of words. A sequence of tokens are passed to the embedding layer first, followed by a positional encoding layer to account for the order of the word (see the next paragraph for more details). The nn.TransformerEncoder consists of multiple layers of nn.TransformerEncoderLayer. Along with the input sequence, a square attention mask is required because the self-attention layers in nn.TransformerEncoder are only allowed to attend the earlier positions in the sequence. For the language modeling task, any tokens on the future positions should be masked. To have the actual words, the output of nn.TransformerEncoder model is sent to the final Linear layer, which is followed by a log-Softmax function."
   ]
  },
  {
   "cell_type": "code",
   "execution_count": 2,
   "metadata": {},
   "outputs": [],
   "source": [
    "import math\n",
    "\n",
    "class TransformerModel(nn.Module):\n",
    "\n",
    "    def __init__(self, ntoken, ninp, nhead, nhid, nlayers, dropout=0.5):\n",
    "        super(TransformerModel, self).__init__()\n",
    "        from torch.nn import TransformerEncoder, TransformerEncoderLayer\n",
    "        self.model_type = 'Transformer'\n",
    "        self.src_mask = None\n",
    "        self.pos_encoder = PositionalEncoding(ninp, dropout)\n",
    "        encoder_layers = TransformerEncoderLayer(ninp, nhead, nhid, dropout)\n",
    "        self.transformer_encoder = TransformerEncoder(encoder_layers, nlayers)\n",
    "        self.encoder = nn.Embedding(ntoken, ninp)\n",
    "        self.ninp = ninp\n",
    "        self.decoder = nn.Linear(ninp, ntoken)\n",
    "\n",
    "        self.init_weights()\n",
    "\n",
    "    def _generate_square_subsequent_mask(self, sz):\n",
    "        mask = (torch.triu(torch.ones(sz, sz)) == 1).transpose(0, 1)\n",
    "        mask = mask.float().masked_fill(mask == 0, float('-inf')).masked_fill(mask == 1, float(0.0))\n",
    "        return mask\n",
    "\n",
    "    def init_weights(self):\n",
    "        initrange = 0.1\n",
    "        self.encoder.weight.data.uniform_(-initrange, initrange)\n",
    "        self.decoder.bias.data.zero_()\n",
    "        self.decoder.weight.data.uniform_(-initrange, initrange)\n",
    "\n",
    "    def forward(self, src):\n",
    "        if self.src_mask is None or self.src_mask.size(0) != len(src):\n",
    "            device = src.device\n",
    "            mask = self._generate_square_subsequent_mask(len(src)).to(device)\n",
    "            self.src_mask = mask\n",
    "\n",
    "        src = self.encoder(src) * math.sqrt(self.ninp)\n",
    "        src = self.pos_encoder(src)\n",
    "        output = self.transformer_encoder(src, self.src_mask)\n",
    "        output = self.decoder(output)\n",
    "        return output"
   ]
  },
  {
   "cell_type": "markdown",
   "metadata": {},
   "source": [
    "PositionalEncoding module injects some information about the relative or absolute position of the tokens in the sequence. The positional encodings have the same dimension as the embeddings so that the two can be summed. Here, we use sine and cosine functions of different frequencies."
   ]
  },
  {
   "cell_type": "code",
   "execution_count": 3,
   "metadata": {},
   "outputs": [],
   "source": [
    "class PositionalEncoding(nn.Module):\n",
    "\n",
    "    def __init__(self, d_model, dropout=0.1, max_len=5000):\n",
    "        super(PositionalEncoding, self).__init__()\n",
    "        self.dropout = nn.Dropout(p=dropout)\n",
    "\n",
    "        pe = torch.zeros(max_len, d_model)\n",
    "        position = torch.arange(0, max_len, dtype=torch.float).unsqueeze(1)\n",
    "        div_term = torch.exp(torch.arange(0, d_model, 2).float() * (-math.log(10000.0) / d_model))\n",
    "        pe[:, 0::2] = torch.sin(position * div_term)\n",
    "        pe[:, 1::2] = torch.cos(position * div_term)\n",
    "        pe = pe.unsqueeze(0).transpose(0, 1)\n",
    "        self.register_buffer('pe', pe)\n",
    "\n",
    "    def forward(self, x):\n",
    "        x = x + self.pe[:x.size(0), :]\n",
    "        return self.dropout(x)"
   ]
  },
  {
   "cell_type": "markdown",
   "metadata": {},
   "source": [
    "## Load and batch data\n",
    "The training process uses Wikitext-2 dataset from torchtext. The vocab object is built based on the train dataset and is used to numericalize tokens into tensors. Starting from sequential data, the batchify() function arranges the dataset into columns, trimming off any tokens remaining after the data has been divided into batches of size batch_size. For instance, with the alphabet as the sequence (total length of 26) and a batch size of 4, we would divide the alphabet into 4 sequences of length 6:\n",
    "\n",
    "These columns are treated as independent by the model, which means that the dependence of G and F can not be learned, but allows more efficient batch processing."
   ]
  },
  {
   "cell_type": "code",
   "execution_count": 4,
   "metadata": {},
   "outputs": [
    {
     "name": "stdout",
     "output_type": "stream",
     "text": [
      "downloading wikitext-2-v1.zip\n"
     ]
    },
    {
     "name": "stderr",
     "output_type": "stream",
     "text": [
      ".data\\wikitext-2\\wikitext-2-v1.zip: 100%|█████████████████████████████████████████| 4.48M/4.48M [00:01<00:00, 3.00MB/s]\n"
     ]
    },
    {
     "name": "stdout",
     "output_type": "stream",
     "text": [
      "extracting\n"
     ]
    }
   ],
   "source": [
    "import torchtext\n",
    "from torchtext.data.utils import get_tokenizer\n",
    "TEXT = torchtext.data.Field(tokenize=get_tokenizer(\"basic_english\"),\n",
    "                            init_token='<sos>',\n",
    "                            eos_token='<eos>',\n",
    "                            lower=True)\n",
    "train_txt, val_txt, test_txt = torchtext.datasets.WikiText2.splits(TEXT)\n",
    "TEXT.build_vocab(train_txt)\n",
    "device = torch.device(\"cuda\" if torch.cuda.is_available() else \"cpu\")\n",
    "\n",
    "def batchify(data, bsz):\n",
    "    data = TEXT.numericalize([data.examples[0].text])\n",
    "    # Divide the dataset into bsz parts.\n",
    "    nbatch = data.size(0) // bsz\n",
    "    # Trim off any extra elements that wouldn't cleanly fit (remainders).\n",
    "    data = data.narrow(0, 0, nbatch * bsz)\n",
    "    # Evenly divide the data across the bsz batches.\n",
    "    data = data.view(bsz, -1).t().contiguous()\n",
    "    return data.to(device)\n",
    "\n",
    "batch_size = 20\n",
    "eval_batch_size = 10\n",
    "train_data = batchify(train_txt, batch_size)\n",
    "val_data = batchify(val_txt, eval_batch_size)\n",
    "test_data = batchify(test_txt, eval_batch_size)"
   ]
  },
  {
   "cell_type": "markdown",
   "metadata": {},
   "source": [
    "## Functions to generate input and target sequence\n",
    "get_batch() function generates the input and target sequence for the transformer model. It subdivides the source data into chunks of length bptt. For the language modeling task, the model needs the following words as Target. For example, with a bptt value of 2, we’d get the following two Variables for i = 0:"
   ]
  },
  {
   "cell_type": "code",
   "execution_count": 11,
   "metadata": {},
   "outputs": [],
   "source": [
    "bptt = 35\n",
    "def get_batch(source, i):\n",
    "    seq_len = min(bptt, len(source) - 1 - i)\n",
    "    data = source[i:i+seq_len]\n",
    "    target = source[i+1:i+1+seq_len].view(-1)\n",
    "    return data, target\n",
    "\n",
    "ntokens = len(TEXT.vocab.stoi) # the size of vocabulary\n",
    "emsize = 200 # embedding dimension\n",
    "nhid = 200 # the dimension of the feedforward network model in nn.TransformerEncoder\n",
    "nlayers = 2 # the number of nn.TransformerEncoderLayer in nn.TransformerEncoder\n",
    "nhead = 2 # the number of heads in the multiheadattention models\n",
    "dropout = 0.2 # the dropout value\n",
    "model = TransformerModel(ntokens, emsize, nhead, nhid, nlayers, dropout).to(device)"
   ]
  },
  {
   "cell_type": "markdown",
   "metadata": {},
   "source": [
    "## Run the model\n",
    "CrossEntropyLoss is applied to track the loss and SGD implements stochastic gradient descent method as the optimizer. The initial learning rate is set to 5.0. StepLR is applied to adjust the learn rate through epochs. During the training, we use nn.utils.clip_grad_norm_ function to scale all the gradient together to prevent exploding."
   ]
  },
  {
   "cell_type": "code",
   "execution_count": 12,
   "metadata": {},
   "outputs": [],
   "source": [
    "criterion = nn.CrossEntropyLoss()\n",
    "lr = 5.0 # learning rate\n",
    "optimizer = torch.optim.SGD(model.parameters(), lr=lr)\n",
    "scheduler = torch.optim.lr_scheduler.StepLR(optimizer, 1.0, gamma=0.95)\n",
    "\n",
    "import time\n",
    "def train():\n",
    "    model.train() # Turn on the train mode\n",
    "    total_loss = 0.\n",
    "    start_time = time.time()\n",
    "    ntokens = len(TEXT.vocab.stoi)\n",
    "    for batch, i in enumerate(range(0, train_data.size(0) - 1, bptt)):\n",
    "        data, targets = get_batch(train_data, i)\n",
    "        optimizer.zero_grad()\n",
    "        output = model(data)\n",
    "        loss = criterion(output.view(-1, ntokens), targets)\n",
    "        loss.backward()\n",
    "        torch.nn.utils.clip_grad_norm_(model.parameters(), 0.5)\n",
    "        optimizer.step()\n",
    "\n",
    "        total_loss += loss.item()\n",
    "        log_interval = 200\n",
    "        if batch % log_interval == 0 and batch > 0:\n",
    "            cur_loss = total_loss / log_interval\n",
    "            elapsed = time.time() - start_time\n",
    "            print('| epoch {:3d} | {:5d}/{:5d} batches | '\n",
    "                  'lr {:02.2f} | ms/batch {:5.2f} | '\n",
    "                  'loss {:5.2f} | ppl {:8.2f}'.format(\n",
    "                    epoch, batch, len(train_data) // bptt, scheduler.get_lr()[0],\n",
    "                    elapsed * 1000 / log_interval,\n",
    "                    cur_loss, math.exp(cur_loss)))\n",
    "            total_loss = 0\n",
    "            start_time = time.time()\n",
    "\n",
    "def evaluate(eval_model, data_source):\n",
    "    eval_model.eval() # Turn on the evaluation mode\n",
    "    total_loss = 0.\n",
    "    ntokens = len(TEXT.vocab.stoi)\n",
    "    with torch.no_grad():\n",
    "        for i in range(0, data_source.size(0) - 1, bptt):\n",
    "            data, targets = get_batch(data_source, i)\n",
    "            output = eval_model(data)\n",
    "            output_flat = output.view(-1, ntokens)\n",
    "            total_loss += len(data) * criterion(output_flat, targets).item()\n",
    "    return total_loss / (len(data_source) - 1)"
   ]
  },
  {
   "cell_type": "code",
   "execution_count": 13,
   "metadata": {},
   "outputs": [
    {
     "name": "stdout",
     "output_type": "stream",
     "text": [
      "| epoch   1 |   200/ 2981 batches | lr 5.00 | ms/batch 43.73 | loss  8.12 | ppl  3352.27\n",
      "| epoch   1 |   400/ 2981 batches | lr 5.00 | ms/batch 34.17 | loss  6.85 | ppl   946.38\n",
      "| epoch   1 |   600/ 2981 batches | lr 5.00 | ms/batch 34.33 | loss  6.41 | ppl   605.07\n",
      "| epoch   1 |   800/ 2981 batches | lr 5.00 | ms/batch 34.08 | loss  6.26 | ppl   524.02\n",
      "| epoch   1 |  1000/ 2981 batches | lr 5.00 | ms/batch 34.54 | loss  6.14 | ppl   462.34\n",
      "| epoch   1 |  1200/ 2981 batches | lr 5.00 | ms/batch 34.91 | loss  6.11 | ppl   448.09\n",
      "| epoch   1 |  1400/ 2981 batches | lr 5.00 | ms/batch 33.90 | loss  6.05 | ppl   425.31\n",
      "| epoch   1 |  1600/ 2981 batches | lr 5.00 | ms/batch 34.22 | loss  6.06 | ppl   427.00\n",
      "| epoch   1 |  1800/ 2981 batches | lr 5.00 | ms/batch 34.34 | loss  5.97 | ppl   389.64\n",
      "| epoch   1 |  2000/ 2981 batches | lr 5.00 | ms/batch 34.65 | loss  5.98 | ppl   395.03\n",
      "| epoch   1 |  2200/ 2981 batches | lr 5.00 | ms/batch 34.59 | loss  5.86 | ppl   349.65\n",
      "| epoch   1 |  2400/ 2981 batches | lr 5.00 | ms/batch 34.60 | loss  5.90 | ppl   365.47\n",
      "| epoch   1 |  2600/ 2981 batches | lr 5.00 | ms/batch 34.91 | loss  5.91 | ppl   368.20\n",
      "| epoch   1 |  2800/ 2981 batches | lr 5.00 | ms/batch 34.28 | loss  5.80 | ppl   331.82\n",
      "-----------------------------------------------------------------------------------------\n",
      "| end of epoch   1 | time: 108.90s | valid loss  5.72 | valid ppl   303.82\n",
      "-----------------------------------------------------------------------------------------\n",
      "| epoch   2 |   200/ 2981 batches | lr 4.51 | ms/batch 34.44 | loss  5.81 | ppl   332.71\n",
      "| epoch   2 |   400/ 2981 batches | lr 4.51 | ms/batch 34.01 | loss  5.78 | ppl   324.15\n",
      "| epoch   2 |   600/ 2981 batches | lr 4.51 | ms/batch 34.02 | loss  5.61 | ppl   273.68\n",
      "| epoch   2 |   800/ 2981 batches | lr 4.51 | ms/batch 34.28 | loss  5.64 | ppl   281.21\n",
      "| epoch   2 |  1000/ 2981 batches | lr 4.51 | ms/batch 34.20 | loss  5.60 | ppl   269.58\n",
      "| epoch   2 |  1200/ 2981 batches | lr 4.51 | ms/batch 34.75 | loss  5.62 | ppl   276.55\n",
      "| epoch   2 |  1400/ 2981 batches | lr 4.51 | ms/batch 35.45 | loss  5.63 | ppl   278.91\n",
      "| epoch   2 |  1600/ 2981 batches | lr 4.51 | ms/batch 34.23 | loss  5.67 | ppl   290.06\n",
      "| epoch   2 |  1800/ 2981 batches | lr 4.51 | ms/batch 34.11 | loss  5.59 | ppl   268.37\n",
      "| epoch   2 |  2000/ 2981 batches | lr 4.51 | ms/batch 34.41 | loss  5.62 | ppl   276.84\n",
      "| epoch   2 |  2200/ 2981 batches | lr 4.51 | ms/batch 35.50 | loss  5.52 | ppl   250.22\n",
      "| epoch   2 |  2400/ 2981 batches | lr 4.51 | ms/batch 35.22 | loss  5.59 | ppl   267.77\n",
      "| epoch   2 |  2600/ 2981 batches | lr 4.51 | ms/batch 35.00 | loss  5.60 | ppl   269.74\n",
      "| epoch   2 |  2800/ 2981 batches | lr 4.51 | ms/batch 34.93 | loss  5.53 | ppl   252.52\n",
      "-----------------------------------------------------------------------------------------\n",
      "| end of epoch   2 | time: 108.43s | valid loss  5.62 | valid ppl   277.04\n",
      "-----------------------------------------------------------------------------------------\n",
      "| epoch   3 |   200/ 2981 batches | lr 4.29 | ms/batch 33.93 | loss  5.56 | ppl   259.52\n",
      "| epoch   3 |   400/ 2981 batches | lr 4.29 | ms/batch 35.11 | loss  5.57 | ppl   262.93\n",
      "| epoch   3 |   600/ 2981 batches | lr 4.29 | ms/batch 34.72 | loss  5.37 | ppl   215.80\n",
      "| epoch   3 |   800/ 2981 batches | lr 4.29 | ms/batch 34.05 | loss  5.43 | ppl   227.86\n",
      "| epoch   3 |  1000/ 2981 batches | lr 4.29 | ms/batch 34.69 | loss  5.40 | ppl   220.56\n",
      "| epoch   3 |  1200/ 2981 batches | lr 4.29 | ms/batch 35.32 | loss  5.42 | ppl   225.29\n",
      "| epoch   3 |  1400/ 2981 batches | lr 4.29 | ms/batch 33.10 | loss  5.44 | ppl   230.82\n",
      "| epoch   3 |  1600/ 2981 batches | lr 4.29 | ms/batch 34.62 | loss  5.48 | ppl   240.76\n",
      "| epoch   3 |  1800/ 2981 batches | lr 4.29 | ms/batch 33.59 | loss  5.42 | ppl   226.81\n",
      "| epoch   3 |  2000/ 2981 batches | lr 4.29 | ms/batch 34.53 | loss  5.45 | ppl   233.31\n",
      "| epoch   3 |  2200/ 2981 batches | lr 4.29 | ms/batch 33.83 | loss  5.34 | ppl   207.64\n",
      "| epoch   3 |  2400/ 2981 batches | lr 4.29 | ms/batch 34.07 | loss  5.41 | ppl   223.15\n",
      "| epoch   3 |  2600/ 2981 batches | lr 4.29 | ms/batch 36.02 | loss  5.42 | ppl   226.21\n",
      "| epoch   3 |  2800/ 2981 batches | lr 4.29 | ms/batch 35.82 | loss  5.35 | ppl   210.69\n",
      "-----------------------------------------------------------------------------------------\n",
      "| end of epoch   3 | time: 107.64s | valid loss  5.60 | valid ppl   269.32\n",
      "-----------------------------------------------------------------------------------------\n"
     ]
    }
   ],
   "source": [
    "best_val_loss = float(\"inf\")\n",
    "epochs = 3 # The number of epochs\n",
    "best_model = None\n",
    "\n",
    "for epoch in range(1, epochs + 1):\n",
    "    epoch_start_time = time.time()\n",
    "    train()\n",
    "    val_loss = evaluate(model, val_data)\n",
    "    print('-' * 89)\n",
    "    print('| end of epoch {:3d} | time: {:5.2f}s | valid loss {:5.2f} | '\n",
    "          'valid ppl {:8.2f}'.format(epoch, (time.time() - epoch_start_time),\n",
    "                                     val_loss, math.exp(val_loss)))\n",
    "    print('-' * 89)\n",
    "\n",
    "    if val_loss < best_val_loss:\n",
    "        best_val_loss = val_loss\n",
    "        best_model = model\n",
    "\n",
    "    scheduler.step()"
   ]
  },
  {
   "cell_type": "code",
   "execution_count": null,
   "metadata": {},
   "outputs": [],
   "source": []
  }
 ],
 "metadata": {
  "kernelspec": {
   "display_name": "Python 3",
   "language": "python",
   "name": "python3"
  },
  "language_info": {
   "codemirror_mode": {
    "name": "ipython",
    "version": 3
   },
   "file_extension": ".py",
   "mimetype": "text/x-python",
   "name": "python",
   "nbconvert_exporter": "python",
   "pygments_lexer": "ipython3",
   "version": "3.7.7"
  }
 },
 "nbformat": 4,
 "nbformat_minor": 4
}
